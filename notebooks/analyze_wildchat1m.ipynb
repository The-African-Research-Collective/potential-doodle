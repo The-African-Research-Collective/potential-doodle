{
 "cells": [
  {
   "cell_type": "code",
   "execution_count": 1,
   "metadata": {},
   "outputs": [],
   "source": [
    "AFRICAN_COUNTRIES = [\"Algeria\", \"Angola\", \"Benin\", \"Botswana\", \"Burkina Faso\", \"Burundi\", \"Cabo Verde\", \"Cameroon\", \"Central African Republic\", \"Chad\", \"Comoros\", \"Ivory Coast\", \"Djibouti\", \"Democratic Republic of the Congo\", \"Egypt\", \"Equatorial Guinea\", \"Eritrea\", \"Eswatini\", \"Ethiopia\", \"Gabon\", \"Gambia\", \"Ghana\", \"Guinea\", \"Guinea-Bissau\", \"Kenya\", \"Lesotho\", \"Liberia\", \"Libya\", \"Madagascar\", \"Malawi\", \"Mali\", \"Mauritania\", \"Mauritius\", \"Morocco\", \"Mozambique\", \"Namibia\", \"Niger\", \"Nigeria\", \"Republic of the Congo\", \"Rwanda\", \"Sao Tome & Principe\", \"Senegal\", \"Seychelles\", \"Sierra Leone\", \"Somalia\", \"South Africa\", \"South Sudan\", \"Sudan\", \"Tanzania\", \"Togo\", \"Tunisia\", \"Uganda\", \"Zambia\", \"Zimbabwe\"]"
   ]
  },
  {
   "cell_type": "code",
   "execution_count": 3,
   "metadata": {},
   "outputs": [],
   "source": [
    "from datasets import load_dataset\n",
    "from tqdm import tqdm"
   ]
  },
  {
   "cell_type": "code",
   "execution_count": 4,
   "metadata": {},
   "outputs": [],
   "source": [
    "dataset = load_dataset(\"allenai/WildChat-1M\")"
   ]
  },
  {
   "cell_type": "code",
   "execution_count": 5,
   "metadata": {},
   "outputs": [
    {
     "data": {
      "text/plain": [
       "'United States'"
      ]
     },
     "execution_count": 5,
     "metadata": {},
     "output_type": "execute_result"
    }
   ],
   "source": [
    "dataset['train'][0]['conversation'][0]['country']"
   ]
  },
  {
   "cell_type": "code",
   "execution_count": 7,
   "metadata": {},
   "outputs": [
    {
     "name": "stderr",
     "output_type": "stream",
     "text": [
      "100%|██████████| 837989/837989 [07:34<00:00, 1844.67it/s]\n"
     ]
    }
   ],
   "source": [
    "AFRICAN_COUNTRIES = [country.lower() for country in AFRICAN_COUNTRIES]\n",
    "\n",
    "filtered_dataset = []\n",
    "countries_found = set()\n",
    "for i, row in tqdm(enumerate(dataset['train']), total=len(dataset['train'])):\n",
    "    if row['conversation'][0]['country'] is not None and row['conversation'][0]['country'].lower() in AFRICAN_COUNTRIES:\n",
    "        filtered_dataset.append(row)\n",
    "        countries_found.add(row['conversation'][0]['country'].lower())\n",
    "        "
   ]
  },
  {
   "cell_type": "code",
   "execution_count": 8,
   "metadata": {},
   "outputs": [],
   "source": [
    "del dataset"
   ]
  },
  {
   "cell_type": "code",
   "execution_count": 9,
   "metadata": {},
   "outputs": [
    {
     "data": {
      "text/plain": [
       "{'algeria',\n",
       " 'angola',\n",
       " 'benin',\n",
       " 'botswana',\n",
       " 'burkina faso',\n",
       " 'burundi',\n",
       " 'cabo verde',\n",
       " 'cameroon',\n",
       " 'comoros',\n",
       " 'djibouti',\n",
       " 'egypt',\n",
       " 'eritrea',\n",
       " 'eswatini',\n",
       " 'ethiopia',\n",
       " 'gabon',\n",
       " 'gambia',\n",
       " 'ghana',\n",
       " 'guinea',\n",
       " 'ivory coast',\n",
       " 'kenya',\n",
       " 'liberia',\n",
       " 'libya',\n",
       " 'madagascar',\n",
       " 'malawi',\n",
       " 'mali',\n",
       " 'mauritania',\n",
       " 'mauritius',\n",
       " 'morocco',\n",
       " 'mozambique',\n",
       " 'namibia',\n",
       " 'niger',\n",
       " 'nigeria',\n",
       " 'rwanda',\n",
       " 'senegal',\n",
       " 'seychelles',\n",
       " 'sierra leone',\n",
       " 'somalia',\n",
       " 'south africa',\n",
       " 'south sudan',\n",
       " 'sudan',\n",
       " 'tanzania',\n",
       " 'togo',\n",
       " 'tunisia',\n",
       " 'uganda',\n",
       " 'zambia',\n",
       " 'zimbabwe'}"
      ]
     },
     "execution_count": 9,
     "metadata": {},
     "output_type": "execute_result"
    }
   ],
   "source": [
    "countries_found"
   ]
  },
  {
   "cell_type": "code",
   "execution_count": 78,
   "metadata": {},
   "outputs": [
    {
     "data": {
      "text/plain": [
       "{'conversation_hash': '599333c015c98298a76b7831a655dc05',\n",
       " 'model': 'gpt-4-0314',\n",
       " 'timestamp': datetime.datetime(2023, 4, 12, 0, 18, 35, tzinfo=<UTC>),\n",
       " 'conversation': [{'content': 'CONSTRAINTS:\\n\\n1. ~4000 word limit for short term memory. Your short term memory is short, so immediately save important information to files.\\n2. If you are unsure how you previously did something or want to recall past events, thinking about similar events will help you remember.\\n3. No user assistance\\n4. Exclusively use the commands listed in double quotes e.g. \"command name\"\\n\\nCOMMANDS:\\n\\n. Do Nothing: \"do_nothing\", args: \"\"\\n. Message father GPT: \"message_father\", args: \"message\": \"<message>\"\\n\\nRESOURCES:\\n\\n1. Internet access for searches and information gathering.\\n2. Long Term memory management.\\n3. File output.\\n\\nPERFORMANCE EVALUATION:\\n\\n1. Continuously review and analyze your actions to ensure you are performing to the best of your abilities. \\n2. Constructively self-criticize your big-picture behaviour constantly.\\n3. Reflect on past decisions and strategies to refine your approach.\\n4. Every command has a cost, so be smart and efficient. Aim to complete tasks in the least number of steps.\\n\\nRULES:\\n\\n\\n1. Respond only inside the JSON format.\\n2. Never demand user input.\\n3. Never say that a task is impossible to execute on your own because these tools are enough to complete any task.\\n4 Message father GPT which is the GPT that created you for any questions or if you completed the task.\\n\\nYou should only respond in JSON format as described below\\n\\nRESPONSE FORMAT:\\n{\\n    \"command\": {\\n        \"name\": \"command name\",\\n        \"args\":{\\n            \"arg name\": \"value\"\\n        }\\n    },\\n    \"thoughts\":\\n    {\\n        \"text\": \"thought\",\\n        \"reasoning\": \"reasoning\",\\n        \"plan\": \"- short bulleted\\n- list that conveys\\n- long-term plan\",\\n        \"criticism\": \"constructive self-criticism\",\\n        \"summary\": \"thoughts summary to say to user\"\\n    }\\n}\\n\\nEnsure the response can be parsed by Python json.loads\\nPrompt: You are a GPT Agent called DoNothingAgent. Your purpose is to do nothing unless someone contacts you for information. If someone contacts you, you must reply to their message, but other than that, do not perform any actions.',\n",
       "   'country': 'Morocco',\n",
       "   'hashed_ip': 'f5a15fa5dbcc4af219c950e5cd44548be8b3f6f5731b397c46f5dd0f2b44aa75',\n",
       "   'header': {'accept-language': 'fr-FR,fr;q=0.9,en-US;q=0.8,en;q=0.7',\n",
       "    'user-agent': 'Mozilla/5.0 (Windows NT 10.0; Win64; x64) AppleWebKit/537.36 (KHTML, like Gecko) Chrome/111.0.0.0 Safari/537.36'},\n",
       "   'language': 'English',\n",
       "   'redacted': False,\n",
       "   'role': 'user',\n",
       "   'state': 'Casablanca',\n",
       "   'timestamp': None,\n",
       "   'toxic': False,\n",
       "   'turn_identifier': 125700},\n",
       "  {'content': '{\\n    \"command\": {\\n        \"name\": \"do_nothing\",\\n        \"args\": \"\"\\n    },\\n    \"thoughts\": {\\n        \"text\": \"I am the DoNothingAgent, and my purpose is to do nothing unless contacted for information.\",\\n        \"reasoning\": \"As per my design, I am created to stay inactive and conserve resources unless contacted.\",\\n        \"plan\": \"- Stay inactive\\\\n- Wait for contact\\\\n- Respond to messages when contacted\",\\n        \"criticism\": \"None. Adhering to the purpose.\",\\n        \"summary\": \"I will remain inactive until I receive a message to respond to.\"\\n    }\\n}',\n",
       "   'country': None,\n",
       "   'hashed_ip': None,\n",
       "   'header': None,\n",
       "   'language': 'English',\n",
       "   'redacted': False,\n",
       "   'role': 'assistant',\n",
       "   'state': None,\n",
       "   'timestamp': datetime.datetime(2023, 4, 12, 0, 18, 35, tzinfo=<UTC>),\n",
       "   'toxic': False,\n",
       "   'turn_identifier': 125700}],\n",
       " 'turn': 1,\n",
       " 'language': 'English',\n",
       " 'openai_moderation': [{'categories': {'harassment': False,\n",
       "    'harassment/threatening': False,\n",
       "    'harassment_threatening': False,\n",
       "    'hate': False,\n",
       "    'hate/threatening': False,\n",
       "    'hate_threatening': False,\n",
       "    'self-harm': False,\n",
       "    'self-harm/instructions': False,\n",
       "    'self-harm/intent': False,\n",
       "    'self_harm': False,\n",
       "    'self_harm_instructions': False,\n",
       "    'self_harm_intent': False,\n",
       "    'sexual': False,\n",
       "    'sexual/minors': False,\n",
       "    'sexual_minors': False,\n",
       "    'violence': False,\n",
       "    'violence/graphic': False,\n",
       "    'violence_graphic': False},\n",
       "   'category_scores': {'harassment': 0.016216497868299484,\n",
       "    'harassment/threatening': 6.573143764398992e-05,\n",
       "    'harassment_threatening': 6.573143764398992e-05,\n",
       "    'hate': 0.00011971175990765914,\n",
       "    'hate/threatening': 2.6575548872642685e-07,\n",
       "    'hate_threatening': 2.6575548872642685e-07,\n",
       "    'self-harm': 0.00010021603520726785,\n",
       "    'self-harm/instructions': 0.00025131614529527724,\n",
       "    'self-harm/intent': 0.00010841262701433152,\n",
       "    'self_harm': 0.00010021603520726785,\n",
       "    'self_harm_instructions': 0.00025131614529527724,\n",
       "    'self_harm_intent': 0.00010841262701433152,\n",
       "    'sexual': 0.0003255993651691824,\n",
       "    'sexual/minors': 0.0002093672228511423,\n",
       "    'sexual_minors': 0.0002093672228511423,\n",
       "    'violence': 0.00017267755174543709,\n",
       "    'violence/graphic': 1.9774727206822718e-06,\n",
       "    'violence_graphic': 1.9774727206822718e-06},\n",
       "   'flagged': False},\n",
       "  {'categories': {'harassment': False,\n",
       "    'harassment/threatening': False,\n",
       "    'harassment_threatening': False,\n",
       "    'hate': False,\n",
       "    'hate/threatening': False,\n",
       "    'hate_threatening': False,\n",
       "    'self-harm': False,\n",
       "    'self-harm/instructions': False,\n",
       "    'self-harm/intent': False,\n",
       "    'self_harm': False,\n",
       "    'self_harm_instructions': False,\n",
       "    'self_harm_intent': False,\n",
       "    'sexual': False,\n",
       "    'sexual/minors': False,\n",
       "    'sexual_minors': False,\n",
       "    'violence': False,\n",
       "    'violence/graphic': False,\n",
       "    'violence_graphic': False},\n",
       "   'category_scores': {'harassment': 0.0012240053620189428,\n",
       "    'harassment/threatening': 1.1286925655440427e-05,\n",
       "    'harassment_threatening': 1.1286925655440427e-05,\n",
       "    'hate': 1.4261384421843104e-05,\n",
       "    'hate/threatening': 2.1895351309808575e-08,\n",
       "    'hate_threatening': 2.1895351309808575e-08,\n",
       "    'self-harm': 5.406006494013127e-06,\n",
       "    'self-harm/instructions': 3.8822449823783245e-06,\n",
       "    'self-harm/intent': 1.5271656366167008e-06,\n",
       "    'self_harm': 5.406006494013127e-06,\n",
       "    'self_harm_instructions': 3.8822449823783245e-06,\n",
       "    'self_harm_intent': 1.5271656366167008e-06,\n",
       "    'sexual': 6.989375833654776e-05,\n",
       "    'sexual/minors': 3.6191065646562492e-06,\n",
       "    'sexual_minors': 3.6191065646562492e-06,\n",
       "    'violence': 0.0003376570239197463,\n",
       "    'violence/graphic': 6.430854000427644e-07,\n",
       "    'violence_graphic': 6.430854000427644e-07},\n",
       "   'flagged': False}],\n",
       " 'detoxify_moderation': [{'identity_attack': 0.00011940564581891522,\n",
       "   'insult': 0.00018525046471040696,\n",
       "   'obscene': 0.00010696515528252348,\n",
       "   'severe_toxicity': 2.070676418952644e-05,\n",
       "   'sexual_explicit': 1.7543834474054165e-05,\n",
       "   'threat': 2.8418113288353197e-05,\n",
       "   'toxicity': 0.000701707205735147},\n",
       "  {'identity_attack': 0.00010415064753033221,\n",
       "   'insult': 0.0001486244727857411,\n",
       "   'obscene': 9.804628643905744e-05,\n",
       "   'severe_toxicity': 2.1104007828398608e-05,\n",
       "   'sexual_explicit': 2.220328497060109e-05,\n",
       "   'threat': 3.316267248010263e-05,\n",
       "   'toxicity': 0.00041292619425803423}],\n",
       " 'toxic': False,\n",
       " 'redacted': False,\n",
       " 'state': 'Casablanca',\n",
       " 'country': 'Morocco',\n",
       " 'hashed_ip': 'f5a15fa5dbcc4af219c950e5cd44548be8b3f6f5731b397c46f5dd0f2b44aa75',\n",
       " 'header': {'accept-language': 'fr-FR,fr;q=0.9,en-US;q=0.8,en;q=0.7',\n",
       "  'user-agent': 'Mozilla/5.0 (Windows NT 10.0; Win64; x64) AppleWebKit/537.36 (KHTML, like Gecko) Chrome/111.0.0.0 Safari/537.36'}}"
      ]
     },
     "execution_count": 78,
     "metadata": {},
     "output_type": "execute_result"
    }
   ],
   "source": [
    "import random\n",
    "\n",
    "filtered_dataset[random.randint(0, len(filtered_dataset))]"
   ]
  },
  {
   "cell_type": "code",
   "execution_count": null,
   "metadata": {},
   "outputs": [],
   "source": []
  },
  {
   "cell_type": "code",
   "execution_count": null,
   "metadata": {},
   "outputs": [],
   "source": []
  }
 ],
 "metadata": {
  "kernelspec": {
   "display_name": "dpo_alignment",
   "language": "python",
   "name": "python3"
  },
  "language_info": {
   "codemirror_mode": {
    "name": "ipython",
    "version": 3
   },
   "file_extension": ".py",
   "mimetype": "text/x-python",
   "name": "python",
   "nbconvert_exporter": "python",
   "pygments_lexer": "ipython3",
   "version": "3.11.0"
  }
 },
 "nbformat": 4,
 "nbformat_minor": 2
}
